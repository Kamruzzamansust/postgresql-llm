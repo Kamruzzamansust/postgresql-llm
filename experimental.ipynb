{
 "cells": [
  {
   "cell_type": "code",
   "execution_count": 2,
   "metadata": {},
   "outputs": [],
   "source": [
    "import psycopg2\n",
    "\n",
    "\n"
   ]
  },
  {
   "cell_type": "code",
   "execution_count": 3,
   "metadata": {},
   "outputs": [
    {
     "name": "stdout",
     "output_type": "stream",
     "text": [
      "('AR', 'Argentina', Decimal('2'))\n",
      "('AU', 'Australia', Decimal('3'))\n",
      "('BE', 'Belgium', Decimal('1'))\n",
      "('BR', 'Brazil', Decimal('2'))\n",
      "('CA', 'Canada', Decimal('2'))\n",
      "('CH', 'Switzerland', Decimal('1'))\n",
      "('CN', 'China', Decimal('3'))\n",
      "('DE', 'Germany', Decimal('1'))\n",
      "('DK', 'Denmark', Decimal('1'))\n",
      "('EG', 'Egypt', Decimal('4'))\n",
      "('FR', 'France', Decimal('1'))\n",
      "('HK', 'HongKong', Decimal('3'))\n",
      "('IL', 'Israel', Decimal('4'))\n",
      "('IN', 'India', Decimal('3'))\n",
      "('IT', 'Italy', Decimal('1'))\n",
      "('JP', 'Japan', Decimal('3'))\n",
      "('KW', 'Kuwait', Decimal('4'))\n",
      "('MX', 'Mexico', Decimal('2'))\n",
      "('NG', 'Nigeria', Decimal('4'))\n",
      "('NL', 'Netherlands', Decimal('1'))\n",
      "('SG', 'Singapore', Decimal('3'))\n",
      "('UK', 'United Kingdom', Decimal('1'))\n",
      "('US', 'United States of America', Decimal('2'))\n",
      "('ZM', 'Zambia', Decimal('4'))\n",
      "('ZW', 'Zimbabwe', Decimal('4'))\n"
     ]
    }
   ],
   "source": [
    "db_user =\"postgres\"\n",
    "db_name = \"hr\"\n",
    "hostname  = 'localhost'\n",
    "pwd ='1234'\n",
    "port_id = 5432\n",
    "\n",
    "try:\n",
    "    connection  = psycopg2.connect(host = hostname,\n",
    "                dbname =db_name,\n",
    "                user = db_user,\n",
    "                password=pwd,\n",
    "                port=port_id)\n",
    "    cursor = connection.cursor()\n",
    "    data = cursor.execute('SELECT * FROM countries')\n",
    "    for row in cursor.fetchall():\n",
    "        print(row)\n",
    "    #print(data)\n",
    "    #print(cursor.fetchall())\n",
    "    connection.close()\n",
    "\n",
    "except  Exception as error:\n",
    "   print(error)"
   ]
  },
  {
   "cell_type": "code",
   "execution_count": 11,
   "metadata": {},
   "outputs": [],
   "source": [
    "data"
   ]
  }
 ],
 "metadata": {
  "kernelspec": {
   "display_name": "postgresql1",
   "language": "python",
   "name": "python3"
  },
  "language_info": {
   "codemirror_mode": {
    "name": "ipython",
    "version": 3
   },
   "file_extension": ".py",
   "mimetype": "text/x-python",
   "name": "python",
   "nbconvert_exporter": "python",
   "pygments_lexer": "ipython3",
   "version": "3.10.13"
  }
 },
 "nbformat": 4,
 "nbformat_minor": 2
}
